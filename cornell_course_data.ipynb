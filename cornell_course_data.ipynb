{
  "nbformat": 4,
  "nbformat_minor": 0,
  "metadata": {
    "colab": {
      "name": "cornell_course_data.ipynb",
      "provenance": [],
      "collapsed_sections": []
    },
    "kernelspec": {
      "name": "python3",
      "display_name": "Python 3"
    },
    "language_info": {
      "name": "python"
    }
  },
  "cells": [
    {
      "cell_type": "code",
      "metadata": {
        "id": "bjGBdbZfmYv1"
      },
      "source": [
        "import requests\n",
        "import bs4\n",
        "import pandas as pd\n",
        "import time\n",
        "from bs4 import BeautifulSoup\n",
        "from IPython.core.display import Pretty\n",
        "from datetime import datetime\n",
        "import os"
      ],
      "execution_count": 2,
      "outputs": []
    },
    {
      "cell_type": "code",
      "metadata": {
        "id": "MReGLXZWnrUc"
      },
      "source": [
        "# retrieve course title and links\n",
        "URL_page = ['https://courses.cornell.edu/content.php?filter%5B27%5D=-1&filter%5B29%5D=&filter%5Bcourse_type%5D=11453&filter%5Bkeyword%5D=&filter%5B32%5D=1&filter%5Bcpage%5D=1&cur_cat_oid=41&expand=&navoid=11626&search_database=Filter#acalog_template_course_filter',\n",
        "            'https://courses.cornell.edu/content.php?catoid=41&navoid=11626&filter%5B27%5D=-1&filter%5B29%5D=&filter%5Bcourse_type%5D=11453&filter%5Bkeyword%5D=&filter%5B32%5D=1&filter%5Bcpage%5D=2&filter%5Bitem_type%5D=3&filter%5Bonly_active%5D=1&filter%5B3%5D=1#acalog_template_course_filter']\n",
        "\n",
        "co_title = []\n",
        "co_link = []\n",
        "\n",
        "for i in URL_page:\n",
        "  URL = i\n",
        "  page = requests.get(URL)\n",
        "  soup = BeautifulSoup(page.text, 'html.parser')\n",
        "    \n",
        "  for a in soup.find_all(name='a',attrs={'aria-expanded':'false'}):\n",
        "    co_title.append(a.text.replace('\\xa0-\\xa0',', '))\n",
        "    co_link.append('https://courses.cornell.edu/'+a['href'])\n",
        "\n",
        "df = pd.DataFrame(list(zip(co_title,co_link)))"
      ],
      "execution_count": 5,
      "outputs": []
    },
    {
      "cell_type": "code",
      "metadata": {
        "id": "TDWkUzf7tQTm"
      },
      "source": [
        "# retrieve course description \n",
        "co_info=[]\n",
        "\n",
        "for i in df[1]:\n",
        "  course_page = requests.get(i)\n",
        "  course_soup = BeautifulSoup(course_page.text, 'html.parser')\n",
        "  co_info.append(course_soup.find(name='h1',attrs={'id':'course_preview_title'}).parent.text)\n",
        "\n",
        "df[2]=co_info"
      ],
      "execution_count": 41,
      "outputs": []
    },
    {
      "cell_type": "code",
      "metadata": {
        "id": "8y9Txz8usnlX"
      },
      "source": [
        "df.to_csv('20_21_catalog.csv')"
      ],
      "execution_count": 43,
      "outputs": []
    },
    {
      "cell_type": "code",
      "metadata": {
        "id": "owAbvk0iw-KP"
      },
      "source": [
        ""
      ],
      "execution_count": null,
      "outputs": []
    }
  ]
}